{
  "nbformat": 4,
  "nbformat_minor": 0,
  "metadata": {
    "colab": {
      "name": "Velasquez1-Ripley.ipynb",
      "provenance": [],
      "collapsed_sections": []
    },
    "kernelspec": {
      "name": "python3",
      "display_name": "Python 3"
    },
    "language_info": {
      "name": "python"
    }
  },
  "cells": [
    {
      "cell_type": "code",
      "metadata": {
        "colab": {
          "base_uri": "https://localhost:8080/"
        },
        "id": "_KoG0OJqXnof",
        "outputId": "67fdc0d2-0b6f-4151-c49b-4f21762a7283"
      },
      "source": [
        "# Instalamos Selenium y el driver de Chrome para realizar pruebas del navegador\n",
        "!pip install selenium\n",
        "!apt get update \n",
        "!apt install chronium-chromedriver\n",
        "!cp /usr/lib/chronium-browser/chromedriver /usr/bin"
      ],
      "execution_count": null,
      "outputs": [
        {
          "output_type": "stream",
          "name": "stdout",
          "text": [
            "Collecting selenium\n",
            "  Downloading selenium-4.1.0-py3-none-any.whl (958 kB)\n",
            "\u001b[K     |████████████████████████████████| 958 kB 23.6 MB/s \n",
            "\u001b[?25hCollecting trio~=0.17\n",
            "  Downloading trio-0.19.0-py3-none-any.whl (356 kB)\n",
            "\u001b[K     |████████████████████████████████| 356 kB 34.4 MB/s \n",
            "\u001b[?25hCollecting urllib3[secure]~=1.26\n",
            "  Downloading urllib3-1.26.7-py2.py3-none-any.whl (138 kB)\n",
            "\u001b[K     |████████████████████████████████| 138 kB 49.4 MB/s \n",
            "\u001b[?25hCollecting trio-websocket~=0.9\n",
            "  Downloading trio_websocket-0.9.2-py3-none-any.whl (16 kB)\n",
            "Requirement already satisfied: sortedcontainers in /usr/local/lib/python3.7/dist-packages (from trio~=0.17->selenium) (2.4.0)\n",
            "Collecting outcome\n",
            "  Downloading outcome-1.1.0-py2.py3-none-any.whl (9.7 kB)\n",
            "Collecting async-generator>=1.9\n",
            "  Downloading async_generator-1.10-py3-none-any.whl (18 kB)\n",
            "Requirement already satisfied: attrs>=19.2.0 in /usr/local/lib/python3.7/dist-packages (from trio~=0.17->selenium) (21.2.0)\n",
            "Collecting sniffio\n",
            "  Downloading sniffio-1.2.0-py3-none-any.whl (10 kB)\n",
            "Requirement already satisfied: idna in /usr/local/lib/python3.7/dist-packages (from trio~=0.17->selenium) (2.10)\n",
            "Collecting wsproto>=0.14\n",
            "  Downloading wsproto-1.0.0-py3-none-any.whl (24 kB)\n",
            "Requirement already satisfied: certifi in /usr/local/lib/python3.7/dist-packages (from urllib3[secure]~=1.26->selenium) (2021.10.8)\n",
            "Collecting cryptography>=1.3.4\n",
            "  Downloading cryptography-36.0.0-cp36-abi3-manylinux_2_24_x86_64.whl (3.6 MB)\n",
            "\u001b[K     |████████████████████████████████| 3.6 MB 39.1 MB/s \n",
            "\u001b[?25hCollecting pyOpenSSL>=0.14\n",
            "  Downloading pyOpenSSL-21.0.0-py2.py3-none-any.whl (55 kB)\n",
            "\u001b[K     |████████████████████████████████| 55 kB 4.2 MB/s \n",
            "\u001b[?25hRequirement already satisfied: cffi>=1.12 in /usr/local/lib/python3.7/dist-packages (from cryptography>=1.3.4->urllib3[secure]~=1.26->selenium) (1.15.0)\n",
            "Requirement already satisfied: pycparser in /usr/local/lib/python3.7/dist-packages (from cffi>=1.12->cryptography>=1.3.4->urllib3[secure]~=1.26->selenium) (2.21)\n",
            "Requirement already satisfied: six>=1.5.2 in /usr/local/lib/python3.7/dist-packages (from pyOpenSSL>=0.14->urllib3[secure]~=1.26->selenium) (1.15.0)\n",
            "Collecting h11<1,>=0.9.0\n",
            "  Downloading h11-0.12.0-py3-none-any.whl (54 kB)\n",
            "\u001b[K     |████████████████████████████████| 54 kB 4.4 MB/s \n",
            "\u001b[?25hInstalling collected packages: sniffio, outcome, h11, cryptography, async-generator, wsproto, urllib3, trio, pyOpenSSL, trio-websocket, selenium\n",
            "  Attempting uninstall: urllib3\n",
            "    Found existing installation: urllib3 1.24.3\n",
            "    Uninstalling urllib3-1.24.3:\n",
            "      Successfully uninstalled urllib3-1.24.3\n",
            "\u001b[31mERROR: pip's dependency resolver does not currently take into account all the packages that are installed. This behaviour is the source of the following dependency conflicts.\n",
            "requests 2.23.0 requires urllib3!=1.25.0,!=1.25.1,<1.26,>=1.21.1, but you have urllib3 1.26.7 which is incompatible.\n",
            "datascience 0.10.6 requires folium==0.2.1, but you have folium 0.8.3 which is incompatible.\u001b[0m\n",
            "Successfully installed async-generator-1.10 cryptography-36.0.0 h11-0.12.0 outcome-1.1.0 pyOpenSSL-21.0.0 selenium-4.1.0 sniffio-1.2.0 trio-0.19.0 trio-websocket-0.9.2 urllib3-1.26.7 wsproto-1.0.0\n",
            "E: Invalid operation get\n",
            "Reading package lists... Done\n",
            "Building dependency tree       \n",
            "Reading state information... Done\n",
            "E: Unable to locate package chronium-chromedriver\n",
            "cp: cannot stat '/usr/lib/chronium-browser/chromedriver': No such file or directory\n"
          ]
        }
      ]
    },
    {
      "cell_type": "code",
      "metadata": {
        "id": "Bp_nAL42qmfF",
        "colab": {
          "base_uri": "https://localhost:8080/"
        },
        "outputId": "86128ab0-9f47-407b-cdf5-9763c8a427c2"
      },
      "source": [
        "# Instalamos Kora para importar funciones de un .ipynb a otro .ipynb en Google COLAB\n",
        "!pip install kora -q"
      ],
      "execution_count": null,
      "outputs": [
        {
          "output_type": "stream",
          "name": "stdout",
          "text": [
            "\u001b[K     |████████████████████████████████| 57 kB 6.2 MB/s \n",
            "\u001b[K     |████████████████████████████████| 56 kB 5.1 MB/s \n",
            "\u001b[?25h"
          ]
        }
      ]
    },
    {
      "cell_type": "code",
      "metadata": {
        "colab": {
          "base_uri": "https://localhost:8080/"
        },
        "id": "xOnGrZ7SXrJD",
        "outputId": "556d0657-e1b3-44d7-fc46-72c64ce3478b"
      },
      "source": [
        "# Instalamos Beautiful Soup\n",
        "pip install BeautifulSoup4"
      ],
      "execution_count": null,
      "outputs": [
        {
          "output_type": "stream",
          "name": "stdout",
          "text": [
            "Requirement already satisfied: BeautifulSoup4 in /usr/local/lib/python3.7/dist-packages (4.6.3)\n"
          ]
        }
      ]
    },
    {
      "cell_type": "code",
      "metadata": {
        "id": "EhddDVeKOUX5"
      },
      "source": [
        "# Una vez instaladas las librerias necesarias, procedemos a su llamado para este proyecto Colab\n",
        "from bs4 import BeautifulSoup\n",
        "from selenium import webdriver\n",
        "from kora.selenium import wd\n",
        "# Importamos Pandas para el trabajo con los dataframe y Time para controlar tiempos de ejecucion\n",
        "import sys\n",
        "import pandas as pd\n",
        "from datetime import date\n",
        "import time"
      ],
      "execution_count": null,
      "outputs": []
    },
    {
      "cell_type": "code",
      "metadata": {
        "id": "dt-D4NgNnJp-"
      },
      "source": [
        "# Usamos el driver de Chrome en Colab\n",
        "sys.path.insert(0,'/usr/lib/chronium-browser/chromedriver')\n",
        "options = webdriver.ChromeOptions()\n",
        "options.add_argument('--headless')\n",
        "options.add_argument('--no-sandbox')\n",
        "options.add_argument('--disable-dev-shm-usage')\n",
        "driver = webdriver.Chrome('chromedriver',options=options)\n",
        "wd.get('https://simple.ripley.com.pe/')\n",
        "wd.title"
      ],
      "execution_count": null,
      "outputs": []
    },
    {
      "cell_type": "code",
      "metadata": {
        "id": "VBm_eAVsqOpG"
      },
      "source": [
        "# Declaramos la Pagina Web a scrapear\n",
        "home_link = 'https://simple.ripley.com.pe/'\n",
        "search_kw= 'laptops'.replace('','+')"
      ],
      "execution_count": null,
      "outputs": []
    },
    {
      "cell_type": "code",
      "metadata": {
        "id": "6BNi4bZGHsAL"
      },
      "source": [
        "driver.get(home_link+'/tecnologia/computacion/laptops?source=search_kw&page=0')"
      ],
      "execution_count": null,
      "outputs": []
    },
    {
      "cell_type": "code",
      "metadata": {
        "id": "5qN_6gcaKdyh"
      },
      "source": [
        "# Declaramos listas vacias para cada columna que de a cuerdo al detalle de los productos encontrados en el Pagina Web\n",
        "laptops_marca=[]\n",
        "laptops_descripcion=[]\n",
        "laptops_precioNormal=[]\n",
        "laptops_precioInternet=[]\n",
        "laptops_precioRipley=[]\n",
        "laptops_descuento=[]"
      ],
      "execution_count": null,
      "outputs": []
    },
    {
      "cell_type": "code",
      "metadata": {
        "id": "mU79t2mjhCmY",
        "colab": {
          "base_uri": "https://localhost:8080/"
        },
        "outputId": "f48cfa8c-34c4-4929-b93e-38bda3d02555"
      },
      "source": [
        "# Con una estructura For hacemos un recorrido de cada etiqueta con la respectiva clase que contiene el texto con la informacion para la columna que deseamos\n",
        "pg_amount = 19\n",
        "page = BeautifulSoup(driver.page_source, 'html.parser')\n",
        "\n",
        "for i in range(0, pg_amount):\n",
        "  for laptops in page.findAll('div', class_='catalog-product-item catalog-product-item__container col-xs-6 col-sm-6 col-md-4 col-lg-4'):\n",
        "      marca = laptops.find('div', attrs={'class': 'catalog-product-details__logo-container'})\n",
        "      if marca:\n",
        "        laptops_marca.append(marca.text)\n",
        "      else:  laptops_marca.append('')\n",
        "\n",
        "      descripcion = laptops.find('div', attrs={'class': 'catalog-product-details__name'})\n",
        "      if descripcion: \n",
        "        laptops_descripcion.append(descripcion.text)\n",
        "      else: laptops_descripcion.append('')\n",
        "\n",
        "      precioNormal=laptops.find('li', attrs={'class': 'catalog-prices__list-price catalog-prices__lowest catalog-prices__line_thru'})\n",
        "      if precioNormal: \n",
        "        laptops_precioNormal.append(precioNormal.text)\n",
        "      else: laptops_precioNormal.append('')\n",
        "\n",
        "      precioInternet=laptops.find('li', attrs={'class': 'catalog-prices__offer-price'})\n",
        "      if precioInternet: \n",
        "        laptops_precioInternet.append(precioInternet.text)\n",
        "      else: laptops_precioInternet.append('')\n",
        "\n",
        "      precioRipley=laptops.find('li', attrs={'class': 'catalog-prices__card-price'})\n",
        "      if precioRipley: \n",
        "        laptops_precioRipley.append(precioRipley.text)\n",
        "      else: laptops_precioRipley.append('')\n",
        "\n",
        "      descuento=laptops.find('div', attrs={'class': 'catalog-product-details__discount-tag'})\n",
        "      if descuento: \n",
        "        laptops_descuento.append(descuento.text)\n",
        "      else: laptops_descuento.append('')\n",
        "\n",
        "# asigamos un tiempo de ejecucion por cada interaccion del recorrido para evitar que la pagina detecte como bots\n",
        "next_btn = driver.find_elements_by_css_selector('.pagination')\n",
        "time.sleep(5)\n",
        "driver.quit()\n",
        " "
      ],
      "execution_count": null,
      "outputs": [
        {
          "output_type": "stream",
          "name": "stderr",
          "text": [
            "/usr/local/lib/python3.7/dist-packages/ipykernel_launcher.py:37: DeprecationWarning: find_elements_by_* commands are deprecated. Please use find_elements() instead\n"
          ]
        }
      ]
    },
    {
      "cell_type": "code",
      "metadata": {
        "colab": {
          "base_uri": "https://localhost:8080/",
          "height": 423
        },
        "id": "QgoXa4Vi8Cmh",
        "outputId": "f15b7113-7164-4435-983c-b72ed1b4c788"
      },
      "source": [
        "# Le asignamos un nombre a cada columna \n",
        "laptops_list = pd.DataFrame({\n",
        "                               'marca': laptops_marca,\n",
        "                               'descripcion': laptops_descripcion,\n",
        "                               'precioNormal': laptops_precioNormal,\n",
        "                               'precioInternet': laptops_precioInternet,\n",
        "                               'precioRipley': laptops_precioRipley,\n",
        "                               'descuento': laptops_descuento\n",
        "                              })\n",
        "\n",
        "\n",
        "laptops_list.to_csv('artefactosRipley.csv', index=None, header=True, encoding='utf-8-sig' )\n",
        "\n",
        "laptops_list"
      ],
      "execution_count": null,
      "outputs": [
        {
          "output_type": "execute_result",
          "data": {
            "text/html": [
              "<div>\n",
              "<style scoped>\n",
              "    .dataframe tbody tr th:only-of-type {\n",
              "        vertical-align: middle;\n",
              "    }\n",
              "\n",
              "    .dataframe tbody tr th {\n",
              "        vertical-align: top;\n",
              "    }\n",
              "\n",
              "    .dataframe thead th {\n",
              "        text-align: right;\n",
              "    }\n",
              "</style>\n",
              "<table border=\"1\" class=\"dataframe\">\n",
              "  <thead>\n",
              "    <tr style=\"text-align: right;\">\n",
              "      <th></th>\n",
              "      <th>marca</th>\n",
              "      <th>descripcion</th>\n",
              "      <th>precioNormal</th>\n",
              "      <th>precioInternet</th>\n",
              "      <th>precioRipley</th>\n",
              "      <th>descuento</th>\n",
              "    </tr>\n",
              "  </thead>\n",
              "  <tbody>\n",
              "    <tr>\n",
              "      <th>0</th>\n",
              "      <td>TOSHIBA</td>\n",
              "      <td>TOSHIBA CANVIO BASICS DISCO EXTERNO</td>\n",
              "      <td>S/ 249</td>\n",
              "      <td>S/ 199</td>\n",
              "      <td></td>\n",
              "      <td>-20%</td>\n",
              "    </tr>\n",
              "    <tr>\n",
              "      <th>1</th>\n",
              "      <td>HP</td>\n",
              "      <td>LAPTOP HP 14-CF2074LA 8GB DDR4 256GB SSD 14\"</td>\n",
              "      <td>S/ 2,599</td>\n",
              "      <td>S/ 2,299</td>\n",
              "      <td>S/ 2,299</td>\n",
              "      <td>-12%</td>\n",
              "    </tr>\n",
              "    <tr>\n",
              "      <th>2</th>\n",
              "      <td>ASUS</td>\n",
              "      <td>LAPTOP ASUS X515EA-BQ1001T INTEL CORE I5 8GB R...</td>\n",
              "      <td>S/ 3,699</td>\n",
              "      <td>S/ 2,499</td>\n",
              "      <td>S/ 2,399</td>\n",
              "      <td>-35%</td>\n",
              "    </tr>\n",
              "    <tr>\n",
              "      <th>3</th>\n",
              "      <td>ACER</td>\n",
              "      <td>LAPTOP ACER A315-57G-53R9 INTEL CORE I5 1035G1...</td>\n",
              "      <td>S/ 3,199</td>\n",
              "      <td>S/ 2,699</td>\n",
              "      <td>S/ 2,599</td>\n",
              "      <td>-19%</td>\n",
              "    </tr>\n",
              "    <tr>\n",
              "      <th>4</th>\n",
              "      <td>ASUS</td>\n",
              "      <td>LAPTOP ASUS X415 X415EA-EB112T 8GB DDR4 256GB ...</td>\n",
              "      <td>S/ 2,599</td>\n",
              "      <td>S/ 2,199</td>\n",
              "      <td>S/ 2,099</td>\n",
              "      <td>-19%</td>\n",
              "    </tr>\n",
              "    <tr>\n",
              "      <th>...</th>\n",
              "      <td>...</td>\n",
              "      <td>...</td>\n",
              "      <td>...</td>\n",
              "      <td>...</td>\n",
              "      <td>...</td>\n",
              "      <td>...</td>\n",
              "    </tr>\n",
              "    <tr>\n",
              "      <th>907</th>\n",
              "      <td>ACER</td>\n",
              "      <td>LAPTOP ACER AN515-55-789Q INTEL CORE I7 10750H...</td>\n",
              "      <td>S/ 5,799</td>\n",
              "      <td>S/ 5,699</td>\n",
              "      <td></td>\n",
              "      <td>-2%</td>\n",
              "    </tr>\n",
              "    <tr>\n",
              "      <th>908</th>\n",
              "      <td>ASUS</td>\n",
              "      <td>LAPTOP ASUS ZENBOOK 14 UX425EA-KI355T INTEL CO...</td>\n",
              "      <td>S/ 4,399</td>\n",
              "      <td>S/ 3,349</td>\n",
              "      <td></td>\n",
              "      <td>-24%</td>\n",
              "    </tr>\n",
              "    <tr>\n",
              "      <th>909</th>\n",
              "      <td>ASUS</td>\n",
              "      <td>LAPTOP ASUS VIVOBOOK 15 OLED K513EA-L11073T IN...</td>\n",
              "      <td>S/ 5,599</td>\n",
              "      <td>S/ 4,599</td>\n",
              "      <td></td>\n",
              "      <td>-18%</td>\n",
              "    </tr>\n",
              "    <tr>\n",
              "      <th>910</th>\n",
              "      <td>HP</td>\n",
              "      <td>LAPTOP GAMER HP 15-DK1045LA INTEL CORE I7 DDR4...</td>\n",
              "      <td>S/ 5,599</td>\n",
              "      <td>S/ 4,999</td>\n",
              "      <td></td>\n",
              "      <td>-11%</td>\n",
              "    </tr>\n",
              "    <tr>\n",
              "      <th>911</th>\n",
              "      <td>LENOVO</td>\n",
              "      <td>LAPTOP LENOVO YOGA C940 INTEL CORE I7 12GB 256...</td>\n",
              "      <td>S/ 6,999</td>\n",
              "      <td>S/ 5,199</td>\n",
              "      <td></td>\n",
              "      <td>-26%</td>\n",
              "    </tr>\n",
              "  </tbody>\n",
              "</table>\n",
              "<p>912 rows × 6 columns</p>\n",
              "</div>"
            ],
            "text/plain": [
              "       marca  ... descuento\n",
              "0    TOSHIBA  ...      -20%\n",
              "1         HP  ...      -12%\n",
              "2       ASUS  ...      -35%\n",
              "3       ACER  ...      -19%\n",
              "4       ASUS  ...      -19%\n",
              "..       ...  ...       ...\n",
              "907     ACER  ...       -2%\n",
              "908     ASUS  ...      -24%\n",
              "909     ASUS  ...      -18%\n",
              "910       HP  ...      -11%\n",
              "911   LENOVO  ...      -26%\n",
              "\n",
              "[912 rows x 6 columns]"
            ]
          },
          "metadata": {},
          "execution_count": 10
        }
      ]
    },
    {
      "cell_type": "code",
      "metadata": {
        "id": "DjETkHNZ-Fvy",
        "colab": {
          "base_uri": "https://localhost:8080/",
          "height": 424
        },
        "outputId": "8ddc73c8-a687-4d73-e820-3d106e863974"
      },
      "source": [
        "# leemos el dataframe en .csv para comprobar resultados\n",
        "frm = pd.read_csv('artefactosRipley.csv')\n",
        "frm"
      ],
      "execution_count": null,
      "outputs": [
        {
          "output_type": "execute_result",
          "data": {
            "text/html": [
              "<div>\n",
              "<style scoped>\n",
              "    .dataframe tbody tr th:only-of-type {\n",
              "        vertical-align: middle;\n",
              "    }\n",
              "\n",
              "    .dataframe tbody tr th {\n",
              "        vertical-align: top;\n",
              "    }\n",
              "\n",
              "    .dataframe thead th {\n",
              "        text-align: right;\n",
              "    }\n",
              "</style>\n",
              "<table border=\"1\" class=\"dataframe\">\n",
              "  <thead>\n",
              "    <tr style=\"text-align: right;\">\n",
              "      <th></th>\n",
              "      <th>marca</th>\n",
              "      <th>descripcion</th>\n",
              "      <th>precioNormal</th>\n",
              "      <th>precioInternet</th>\n",
              "      <th>precioRipley</th>\n",
              "      <th>descuento</th>\n",
              "    </tr>\n",
              "  </thead>\n",
              "  <tbody>\n",
              "    <tr>\n",
              "      <th>0</th>\n",
              "      <td>HP</td>\n",
              "      <td>LAPTOP HP 14-CF2074LA 8GB DDR4 256GB SSD 14\"</td>\n",
              "      <td>S/ 2,599</td>\n",
              "      <td>S/ 2,399</td>\n",
              "      <td>S/ 2,199</td>\n",
              "      <td>-15%</td>\n",
              "    </tr>\n",
              "    <tr>\n",
              "      <th>1</th>\n",
              "      <td>ASUS</td>\n",
              "      <td>LAPTOP ASUS X515EA-BQ1001T INTEL CORE I5 8GB R...</td>\n",
              "      <td>S/ 3,699</td>\n",
              "      <td>S/ 2,499</td>\n",
              "      <td>S/ 2,399</td>\n",
              "      <td>-35%</td>\n",
              "    </tr>\n",
              "    <tr>\n",
              "      <th>2</th>\n",
              "      <td>ACER</td>\n",
              "      <td>LAPTOP ACER A315-57G-53R9 INTEL CORE I5 1035G1...</td>\n",
              "      <td>S/ 3,199</td>\n",
              "      <td>S/ 2,699</td>\n",
              "      <td>S/ 2,599</td>\n",
              "      <td>-19%</td>\n",
              "    </tr>\n",
              "    <tr>\n",
              "      <th>3</th>\n",
              "      <td>ASUS</td>\n",
              "      <td>LAPTOP ASUS X415 X415EA-EB112T 8GB DDR4 256GB ...</td>\n",
              "      <td>S/ 2,599</td>\n",
              "      <td>S/ 2,199</td>\n",
              "      <td>S/ 2,099</td>\n",
              "      <td>-19%</td>\n",
              "    </tr>\n",
              "    <tr>\n",
              "      <th>4</th>\n",
              "      <td>APPLE</td>\n",
              "      <td>LAPTOP APPLE MACBOOK AIR 8GB DDR4 256GB SSD 13\"</td>\n",
              "      <td>S/ 5,799</td>\n",
              "      <td>S/ 4,599</td>\n",
              "      <td>S/ 4,499</td>\n",
              "      <td>-22%</td>\n",
              "    </tr>\n",
              "    <tr>\n",
              "      <th>...</th>\n",
              "      <td>...</td>\n",
              "      <td>...</td>\n",
              "      <td>...</td>\n",
              "      <td>...</td>\n",
              "      <td>...</td>\n",
              "      <td>...</td>\n",
              "    </tr>\n",
              "    <tr>\n",
              "      <th>907</th>\n",
              "      <td>ASUS</td>\n",
              "      <td>LAPTOP ASUS ZENBOOK 14 UX425EA-KI355T INTEL CO...</td>\n",
              "      <td>S/ 4,399</td>\n",
              "      <td>S/ 3,349</td>\n",
              "      <td>S/ 3,149</td>\n",
              "      <td>-28%</td>\n",
              "    </tr>\n",
              "    <tr>\n",
              "      <th>908</th>\n",
              "      <td>ASUS</td>\n",
              "      <td>LAPTOP ASUS VIVOBOOK 15 OLED K513EA-L11073T IN...</td>\n",
              "      <td>S/ 5,599</td>\n",
              "      <td>S/ 4,599</td>\n",
              "      <td>S/ 4,399</td>\n",
              "      <td>-21%</td>\n",
              "    </tr>\n",
              "    <tr>\n",
              "      <th>909</th>\n",
              "      <td>HP</td>\n",
              "      <td>LAPTOP GAMER HP 15-DK1045LA INTEL CORE I7 DDR4...</td>\n",
              "      <td>S/ 5,599</td>\n",
              "      <td>S/ 4,999</td>\n",
              "      <td>S/ 4,799</td>\n",
              "      <td>-14%</td>\n",
              "    </tr>\n",
              "    <tr>\n",
              "      <th>910</th>\n",
              "      <td>LENOVO</td>\n",
              "      <td>LAPTOP LENOVO YOGA C940 INTEL CORE I7 12GB 256...</td>\n",
              "      <td>S/ 6,999</td>\n",
              "      <td>S/ 5,199</td>\n",
              "      <td>S/ 4,999</td>\n",
              "      <td>-29%</td>\n",
              "    </tr>\n",
              "    <tr>\n",
              "      <th>911</th>\n",
              "      <td>LENOVO</td>\n",
              "      <td>LAPTOP LENOVO YOGA C740 INTEL CORE I7 8GB 512G...</td>\n",
              "      <td>S/ 5,599</td>\n",
              "      <td>S/ 3,999</td>\n",
              "      <td>S/ 3,799</td>\n",
              "      <td>-32%</td>\n",
              "    </tr>\n",
              "  </tbody>\n",
              "</table>\n",
              "<p>912 rows × 6 columns</p>\n",
              "</div>"
            ],
            "text/plain": [
              "      marca  ... descuento\n",
              "0        HP  ...      -15%\n",
              "1      ASUS  ...      -35%\n",
              "2      ACER  ...      -19%\n",
              "3      ASUS  ...      -19%\n",
              "4     APPLE  ...      -22%\n",
              "..      ...  ...       ...\n",
              "907    ASUS  ...      -28%\n",
              "908    ASUS  ...      -21%\n",
              "909      HP  ...      -14%\n",
              "910  LENOVO  ...      -29%\n",
              "911  LENOVO  ...      -32%\n",
              "\n",
              "[912 rows x 6 columns]"
            ]
          },
          "metadata": {},
          "execution_count": 15
        }
      ]
    },
    {
      "cell_type": "code",
      "metadata": {
        "id": "k-8dUGCHDCLW",
        "colab": {
          "base_uri": "https://localhost:8080/",
          "height": 34
        },
        "outputId": "52f7d850-c3c0-4dd2-e084-2249e8a847bc"
      },
      "source": [
        "# Descargamos el Dataframe en formato .csv\n",
        "from google.colab import files\n",
        "files.download('artefactosRipley.csv')"
      ],
      "execution_count": null,
      "outputs": [
        {
          "output_type": "display_data",
          "data": {
            "application/javascript": [
              "\n",
              "    async function download(id, filename, size) {\n",
              "      if (!google.colab.kernel.accessAllowed) {\n",
              "        return;\n",
              "      }\n",
              "      const div = document.createElement('div');\n",
              "      const label = document.createElement('label');\n",
              "      label.textContent = `Downloading \"${filename}\": `;\n",
              "      div.appendChild(label);\n",
              "      const progress = document.createElement('progress');\n",
              "      progress.max = size;\n",
              "      div.appendChild(progress);\n",
              "      document.body.appendChild(div);\n",
              "\n",
              "      const buffers = [];\n",
              "      let downloaded = 0;\n",
              "\n",
              "      const channel = await google.colab.kernel.comms.open(id);\n",
              "      // Send a message to notify the kernel that we're ready.\n",
              "      channel.send({})\n",
              "\n",
              "      for await (const message of channel.messages) {\n",
              "        // Send a message to notify the kernel that we're ready.\n",
              "        channel.send({})\n",
              "        if (message.buffers) {\n",
              "          for (const buffer of message.buffers) {\n",
              "            buffers.push(buffer);\n",
              "            downloaded += buffer.byteLength;\n",
              "            progress.value = downloaded;\n",
              "          }\n",
              "        }\n",
              "      }\n",
              "      const blob = new Blob(buffers, {type: 'application/binary'});\n",
              "      const a = document.createElement('a');\n",
              "      a.href = window.URL.createObjectURL(blob);\n",
              "      a.download = filename;\n",
              "      div.appendChild(a);\n",
              "      a.click();\n",
              "      div.remove();\n",
              "    }\n",
              "  "
            ],
            "text/plain": [
              "<IPython.core.display.Javascript object>"
            ]
          },
          "metadata": {}
        },
        {
          "output_type": "display_data",
          "data": {
            "application/javascript": [
              "download(\"download_45ecd7c0-29a4-4277-9342-5698895b7f56\", \"artefactosRipley.csv\", 102045)"
            ],
            "text/plain": [
              "<IPython.core.display.Javascript object>"
            ]
          },
          "metadata": {}
        }
      ]
    }
  ]
}