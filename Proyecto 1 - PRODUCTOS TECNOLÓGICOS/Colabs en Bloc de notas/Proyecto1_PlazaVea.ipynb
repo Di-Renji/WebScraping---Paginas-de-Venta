{
  "nbformat": 4,
  "nbformat_minor": 0,
  "metadata": {
    "colab": {
      "name": "Proyecto1_PlazaVea.ipynb",
      "provenance": []
    },
    "kernelspec": {
      "name": "python3",
      "display_name": "Python 3"
    },
    "language_info": {
      "name": "python"
    }
  },
  "cells": [
    {
      "cell_type": "code",
      "metadata": {
        "id": "J2DtfV7E0May",
        "colab": {
          "base_uri": "https://localhost:8080/"
        },
        "outputId": "c515c53c-e1c8-4c1d-af40-5ffd169b9f7c"
      },
      "source": [
        "#Instalamos lo que necesitamos, y el driver de Chrome que va a ser el navegador elegido\n",
        "!pip install selenium\n",
        "!apt get update \n",
        "!apt install chronium-chromedriver\n",
        "!cp /usr/lib/chronium-browser/chromedriver /usr/bin"
      ],
      "execution_count": null,
      "outputs": [
        {
          "output_type": "stream",
          "name": "stdout",
          "text": [
            "Collecting selenium\n",
            "  Downloading selenium-4.1.0-py3-none-any.whl (958 kB)\n",
            "\u001b[?25l\r\u001b[K     |▍                               | 10 kB 16.3 MB/s eta 0:00:01\r\u001b[K     |▊                               | 20 kB 18.9 MB/s eta 0:00:01\r\u001b[K     |█                               | 30 kB 19.7 MB/s eta 0:00:01\r\u001b[K     |█▍                              | 40 kB 12.8 MB/s eta 0:00:01\r\u001b[K     |█▊                              | 51 kB 9.5 MB/s eta 0:00:01\r\u001b[K     |██                              | 61 kB 8.6 MB/s eta 0:00:01\r\u001b[K     |██▍                             | 71 kB 8.0 MB/s eta 0:00:01\r\u001b[K     |██▊                             | 81 kB 8.8 MB/s eta 0:00:01\r\u001b[K     |███                             | 92 kB 9.6 MB/s eta 0:00:01\r\u001b[K     |███▍                            | 102 kB 8.6 MB/s eta 0:00:01\r\u001b[K     |███▊                            | 112 kB 8.6 MB/s eta 0:00:01\r\u001b[K     |████                            | 122 kB 8.6 MB/s eta 0:00:01\r\u001b[K     |████▍                           | 133 kB 8.6 MB/s eta 0:00:01\r\u001b[K     |████▉                           | 143 kB 8.6 MB/s eta 0:00:01\r\u001b[K     |█████▏                          | 153 kB 8.6 MB/s eta 0:00:01\r\u001b[K     |█████▌                          | 163 kB 8.6 MB/s eta 0:00:01\r\u001b[K     |█████▉                          | 174 kB 8.6 MB/s eta 0:00:01\r\u001b[K     |██████▏                         | 184 kB 8.6 MB/s eta 0:00:01\r\u001b[K     |██████▌                         | 194 kB 8.6 MB/s eta 0:00:01\r\u001b[K     |██████▉                         | 204 kB 8.6 MB/s eta 0:00:01\r\u001b[K     |███████▏                        | 215 kB 8.6 MB/s eta 0:00:01\r\u001b[K     |███████▌                        | 225 kB 8.6 MB/s eta 0:00:01\r\u001b[K     |███████▉                        | 235 kB 8.6 MB/s eta 0:00:01\r\u001b[K     |████████▏                       | 245 kB 8.6 MB/s eta 0:00:01\r\u001b[K     |████████▌                       | 256 kB 8.6 MB/s eta 0:00:01\r\u001b[K     |████████▉                       | 266 kB 8.6 MB/s eta 0:00:01\r\u001b[K     |█████████▎                      | 276 kB 8.6 MB/s eta 0:00:01\r\u001b[K     |█████████▋                      | 286 kB 8.6 MB/s eta 0:00:01\r\u001b[K     |██████████                      | 296 kB 8.6 MB/s eta 0:00:01\r\u001b[K     |██████████▎                     | 307 kB 8.6 MB/s eta 0:00:01\r\u001b[K     |██████████▋                     | 317 kB 8.6 MB/s eta 0:00:01\r\u001b[K     |███████████                     | 327 kB 8.6 MB/s eta 0:00:01\r\u001b[K     |███████████▎                    | 337 kB 8.6 MB/s eta 0:00:01\r\u001b[K     |███████████▋                    | 348 kB 8.6 MB/s eta 0:00:01\r\u001b[K     |████████████                    | 358 kB 8.6 MB/s eta 0:00:01\r\u001b[K     |████████████▎                   | 368 kB 8.6 MB/s eta 0:00:01\r\u001b[K     |████████████▋                   | 378 kB 8.6 MB/s eta 0:00:01\r\u001b[K     |█████████████                   | 389 kB 8.6 MB/s eta 0:00:01\r\u001b[K     |█████████████▎                  | 399 kB 8.6 MB/s eta 0:00:01\r\u001b[K     |█████████████▊                  | 409 kB 8.6 MB/s eta 0:00:01\r\u001b[K     |██████████████                  | 419 kB 8.6 MB/s eta 0:00:01\r\u001b[K     |██████████████▍                 | 430 kB 8.6 MB/s eta 0:00:01\r\u001b[K     |██████████████▊                 | 440 kB 8.6 MB/s eta 0:00:01\r\u001b[K     |███████████████                 | 450 kB 8.6 MB/s eta 0:00:01\r\u001b[K     |███████████████▍                | 460 kB 8.6 MB/s eta 0:00:01\r\u001b[K     |███████████████▊                | 471 kB 8.6 MB/s eta 0:00:01\r\u001b[K     |████████████████                | 481 kB 8.6 MB/s eta 0:00:01\r\u001b[K     |████████████████▍               | 491 kB 8.6 MB/s eta 0:00:01\r\u001b[K     |████████████████▊               | 501 kB 8.6 MB/s eta 0:00:01\r\u001b[K     |█████████████████               | 512 kB 8.6 MB/s eta 0:00:01\r\u001b[K     |█████████████████▍              | 522 kB 8.6 MB/s eta 0:00:01\r\u001b[K     |█████████████████▊              | 532 kB 8.6 MB/s eta 0:00:01\r\u001b[K     |██████████████████▏             | 542 kB 8.6 MB/s eta 0:00:01\r\u001b[K     |██████████████████▌             | 552 kB 8.6 MB/s eta 0:00:01\r\u001b[K     |██████████████████▉             | 563 kB 8.6 MB/s eta 0:00:01\r\u001b[K     |███████████████████▏            | 573 kB 8.6 MB/s eta 0:00:01\r\u001b[K     |███████████████████▌            | 583 kB 8.6 MB/s eta 0:00:01\r\u001b[K     |███████████████████▉            | 593 kB 8.6 MB/s eta 0:00:01\r\u001b[K     |████████████████████▏           | 604 kB 8.6 MB/s eta 0:00:01\r\u001b[K     |████████████████████▌           | 614 kB 8.6 MB/s eta 0:00:01\r\u001b[K     |████████████████████▉           | 624 kB 8.6 MB/s eta 0:00:01\r\u001b[K     |█████████████████████▏          | 634 kB 8.6 MB/s eta 0:00:01\r\u001b[K     |█████████████████████▌          | 645 kB 8.6 MB/s eta 0:00:01\r\u001b[K     |█████████████████████▉          | 655 kB 8.6 MB/s eta 0:00:01\r\u001b[K     |██████████████████████▏         | 665 kB 8.6 MB/s eta 0:00:01\r\u001b[K     |██████████████████████▋         | 675 kB 8.6 MB/s eta 0:00:01\r\u001b[K     |███████████████████████         | 686 kB 8.6 MB/s eta 0:00:01\r\u001b[K     |███████████████████████▎        | 696 kB 8.6 MB/s eta 0:00:01\r\u001b[K     |███████████████████████▋        | 706 kB 8.6 MB/s eta 0:00:01\r\u001b[K     |████████████████████████        | 716 kB 8.6 MB/s eta 0:00:01\r\u001b[K     |████████████████████████▎       | 727 kB 8.6 MB/s eta 0:00:01\r\u001b[K     |████████████████████████▋       | 737 kB 8.6 MB/s eta 0:00:01\r\u001b[K     |█████████████████████████       | 747 kB 8.6 MB/s eta 0:00:01\r\u001b[K     |█████████████████████████▎      | 757 kB 8.6 MB/s eta 0:00:01\r\u001b[K     |█████████████████████████▋      | 768 kB 8.6 MB/s eta 0:00:01\r\u001b[K     |██████████████████████████      | 778 kB 8.6 MB/s eta 0:00:01\r\u001b[K     |██████████████████████████▎     | 788 kB 8.6 MB/s eta 0:00:01\r\u001b[K     |██████████████████████████▋     | 798 kB 8.6 MB/s eta 0:00:01\r\u001b[K     |███████████████████████████     | 808 kB 8.6 MB/s eta 0:00:01\r\u001b[K     |███████████████████████████▍    | 819 kB 8.6 MB/s eta 0:00:01\r\u001b[K     |███████████████████████████▊    | 829 kB 8.6 MB/s eta 0:00:01\r\u001b[K     |████████████████████████████    | 839 kB 8.6 MB/s eta 0:00:01\r\u001b[K     |████████████████████████████▍   | 849 kB 8.6 MB/s eta 0:00:01\r\u001b[K     |████████████████████████████▊   | 860 kB 8.6 MB/s eta 0:00:01\r\u001b[K     |█████████████████████████████   | 870 kB 8.6 MB/s eta 0:00:01\r\u001b[K     |█████████████████████████████▍  | 880 kB 8.6 MB/s eta 0:00:01\r\u001b[K     |█████████████████████████████▊  | 890 kB 8.6 MB/s eta 0:00:01\r\u001b[K     |██████████████████████████████  | 901 kB 8.6 MB/s eta 0:00:01\r\u001b[K     |██████████████████████████████▍ | 911 kB 8.6 MB/s eta 0:00:01\r\u001b[K     |██████████████████████████████▊ | 921 kB 8.6 MB/s eta 0:00:01\r\u001b[K     |███████████████████████████████ | 931 kB 8.6 MB/s eta 0:00:01\r\u001b[K     |███████████████████████████████▍| 942 kB 8.6 MB/s eta 0:00:01\r\u001b[K     |███████████████████████████████▉| 952 kB 8.6 MB/s eta 0:00:01\r\u001b[K     |████████████████████████████████| 958 kB 8.6 MB/s \n",
            "\u001b[?25hCollecting trio-websocket~=0.9\n",
            "  Downloading trio_websocket-0.9.2-py3-none-any.whl (16 kB)\n",
            "Collecting trio~=0.17\n",
            "  Downloading trio-0.19.0-py3-none-any.whl (356 kB)\n",
            "\u001b[K     |████████████████████████████████| 356 kB 38.0 MB/s \n",
            "\u001b[?25hCollecting urllib3[secure]~=1.26\n",
            "  Downloading urllib3-1.26.7-py2.py3-none-any.whl (138 kB)\n",
            "\u001b[K     |████████████████████████████████| 138 kB 45.5 MB/s \n",
            "\u001b[?25hRequirement already satisfied: attrs>=19.2.0 in /usr/local/lib/python3.7/dist-packages (from trio~=0.17->selenium) (21.2.0)\n",
            "Requirement already satisfied: idna in /usr/local/lib/python3.7/dist-packages (from trio~=0.17->selenium) (2.10)\n",
            "Collecting outcome\n",
            "  Downloading outcome-1.1.0-py2.py3-none-any.whl (9.7 kB)\n",
            "Collecting sniffio\n",
            "  Downloading sniffio-1.2.0-py3-none-any.whl (10 kB)\n",
            "Collecting async-generator>=1.9\n",
            "  Downloading async_generator-1.10-py3-none-any.whl (18 kB)\n",
            "Requirement already satisfied: sortedcontainers in /usr/local/lib/python3.7/dist-packages (from trio~=0.17->selenium) (2.4.0)\n",
            "Collecting wsproto>=0.14\n",
            "  Downloading wsproto-1.0.0-py3-none-any.whl (24 kB)\n",
            "Collecting pyOpenSSL>=0.14\n",
            "  Downloading pyOpenSSL-21.0.0-py2.py3-none-any.whl (55 kB)\n",
            "\u001b[K     |████████████████████████████████| 55 kB 3.8 MB/s \n",
            "\u001b[?25hRequirement already satisfied: certifi in /usr/local/lib/python3.7/dist-packages (from urllib3[secure]~=1.26->selenium) (2021.10.8)\n",
            "Collecting cryptography>=1.3.4\n",
            "  Downloading cryptography-36.0.0-cp36-abi3-manylinux_2_24_x86_64.whl (3.6 MB)\n",
            "\u001b[K     |████████████████████████████████| 3.6 MB 43.3 MB/s \n",
            "\u001b[?25hRequirement already satisfied: cffi>=1.12 in /usr/local/lib/python3.7/dist-packages (from cryptography>=1.3.4->urllib3[secure]~=1.26->selenium) (1.15.0)\n",
            "Requirement already satisfied: pycparser in /usr/local/lib/python3.7/dist-packages (from cffi>=1.12->cryptography>=1.3.4->urllib3[secure]~=1.26->selenium) (2.21)\n",
            "Requirement already satisfied: six>=1.5.2 in /usr/local/lib/python3.7/dist-packages (from pyOpenSSL>=0.14->urllib3[secure]~=1.26->selenium) (1.15.0)\n",
            "Collecting h11<1,>=0.9.0\n",
            "  Downloading h11-0.12.0-py3-none-any.whl (54 kB)\n",
            "\u001b[K     |████████████████████████████████| 54 kB 3.6 MB/s \n",
            "\u001b[?25hInstalling collected packages: sniffio, outcome, h11, cryptography, async-generator, wsproto, urllib3, trio, pyOpenSSL, trio-websocket, selenium\n",
            "  Attempting uninstall: urllib3\n",
            "    Found existing installation: urllib3 1.24.3\n",
            "    Uninstalling urllib3-1.24.3:\n",
            "      Successfully uninstalled urllib3-1.24.3\n",
            "\u001b[31mERROR: pip's dependency resolver does not currently take into account all the packages that are installed. This behaviour is the source of the following dependency conflicts.\n",
            "requests 2.23.0 requires urllib3!=1.25.0,!=1.25.1,<1.26,>=1.21.1, but you have urllib3 1.26.7 which is incompatible.\n",
            "datascience 0.10.6 requires folium==0.2.1, but you have folium 0.8.3 which is incompatible.\u001b[0m\n",
            "Successfully installed async-generator-1.10 cryptography-36.0.0 h11-0.12.0 outcome-1.1.0 pyOpenSSL-21.0.0 selenium-4.1.0 sniffio-1.2.0 trio-0.19.0 trio-websocket-0.9.2 urllib3-1.26.7 wsproto-1.0.0\n",
            "E: Invalid operation get\n",
            "Reading package lists... Done\n",
            "Building dependency tree       \n",
            "Reading state information... Done\n",
            "E: Unable to locate package chronium-chromedriver\n",
            "cp: cannot stat '/usr/lib/chronium-browser/chromedriver': No such file or directory\n"
          ]
        }
      ]
    },
    {
      "cell_type": "code",
      "metadata": {
        "id": "5hESUw5KYPs-",
        "colab": {
          "base_uri": "https://localhost:8080/"
        },
        "outputId": "6c789552-cb92-4a1e-d94e-5726a118447b"
      },
      "source": [
        "!pip install kora -q"
      ],
      "execution_count": null,
      "outputs": [
        {
          "output_type": "stream",
          "name": "stdout",
          "text": [
            "\u001b[K     |████████████████████████████████| 57 kB 3.7 MB/s \n",
            "\u001b[K     |████████████████████████████████| 56 kB 5.2 MB/s \n",
            "\u001b[?25h"
          ]
        }
      ]
    },
    {
      "cell_type": "code",
      "metadata": {
        "id": "jE21PkFeYey8"
      },
      "source": [
        "# Una vez instaladas las librerias necesarias, procedemos a su llamado para este proyecto Colab\n",
        "from bs4 import BeautifulSoup\n",
        "from selenium import webdriver\n",
        "from kora.selenium import wd\n",
        "# Importamos Pandas para el trabajo con los dataframe y Time para controlar tiempos de ejecucion\n",
        "import sys\n",
        "import pandas as pd\n",
        "from datetime import date\n",
        "import time"
      ],
      "execution_count": null,
      "outputs": []
    },
    {
      "cell_type": "code",
      "metadata": {
        "colab": {
          "base_uri": "https://localhost:8080/",
          "height": 35
        },
        "id": "aVyNcQ0z_skq",
        "outputId": "95cb4ca5-8910-454b-c184-5f602974c98b"
      },
      "source": [
        "# Usamos el driver de Chrome en Colab\n",
        "sys.path.insert(0,'/usr/lib/chronium-browser/chromedriver')\n",
        "options = webdriver.ChromeOptions()\n",
        "options.add_argument('--headless')\n",
        "options.add_argument('--no-sandbox')\n",
        "options.add_argument('--disable-dev-shm-usage')\n",
        "driver = webdriver.Chrome('chromedriver',options=options)\n",
        "wd.get(\"https://www.plazavea.com.pe/tecnologia/computo\")\n",
        "wd.title"
      ],
      "execution_count": null,
      "outputs": [
        {
          "output_type": "execute_result",
          "data": {
            "application/vnd.google.colaboratory.intrinsic+json": {
              "type": "string"
            },
            "text/plain": [
              "'Cómputo | Laptops | Impresoras y Multifuncionales | plazaVea'"
            ]
          },
          "metadata": {},
          "execution_count": 4
        }
      ]
    },
    {
      "cell_type": "code",
      "metadata": {
        "id": "VnddFvPzAF2B"
      },
      "source": [
        "#Seleccionamos el sitio web a realizar web scrapping\n",
        "website ='https://www.plazavea.com.pe/tecnologia/computo'\n",
        "driver = webdriver.Chrome('chromedriver', options=options)\n",
        "driver.get(website)"
      ],
      "execution_count": null,
      "outputs": []
    },
    {
      "cell_type": "code",
      "metadata": {
        "id": "qsA255TPAKrr"
      },
      "source": [
        "url_to_srap = 'https://www.plazavea.com.pe/tecnologia/computo'\n",
        "from selenium import webdriver\n",
        "driver.get(url_to_srap)"
      ],
      "execution_count": null,
      "outputs": []
    },
    {
      "cell_type": "code",
      "metadata": {
        "id": "eFfzOMmyASZC"
      },
      "source": [
        "html_code = driver.page_source"
      ],
      "execution_count": null,
      "outputs": []
    },
    {
      "cell_type": "code",
      "metadata": {
        "id": "TXIJe_LoAWJM"
      },
      "source": [
        "from bs4 import BeautifulSoup\n",
        "soup = BeautifulSoup(html_code,'lxml')"
      ],
      "execution_count": null,
      "outputs": []
    },
    {
      "cell_type": "code",
      "metadata": {
        "id": "cWyJNpcMAbZB"
      },
      "source": [
        "#Seleccionamos dentro del div, lo que vamos a extraer\n",
        "tecnologias =soup.find_all(\"div\", class_=\"HA Showcase Showcase--non-food\")"
      ],
      "execution_count": null,
      "outputs": []
    },
    {
      "cell_type": "code",
      "metadata": {
        "id": "ikh57Z0nAeem"
      },
      "source": [
        "#Arreglo\n",
        "artefactos = []\n",
        "for tecnologia in tecnologias:\n",
        "  artefactos.append(tecnologia.text)\n",
        "driver.quit()"
      ],
      "execution_count": null,
      "outputs": []
    },
    {
      "cell_type": "code",
      "metadata": {
        "colab": {
          "base_uri": "https://localhost:8080/"
        },
        "id": "g57HZvAjAsxz",
        "outputId": "214631c3-0ca3-42f7-a78d-289730d30aff"
      },
      "source": [
        "#Importamos pandas para crear el DataFrame\n",
        "\n",
        "import pandas as pd\n",
        "df = pd.DataFrame({'artefactos': artefactos})\n",
        "df.to_csv('artefactosPlazaVea.csv', index=False)\n",
        "print(df)"
      ],
      "execution_count": null,
      "outputs": [
        {
          "output_type": "stream",
          "name": "stdout",
          "text": [
            "                                           artefactos\n",
            "0   LENOVONetbook LENOVO 100e DUET 11'' Intel Cele...\n",
            "1   LENOVOTablet LENOVO TB-8505X 8'' 2GB 32GB HDD ...\n",
            "2   HPLaptop HP 14-cf2074LA 14'' Intel Core i5 8GB...\n",
            "3   LENOVOTablet LENOVO M10 HD 2da Generación 10.1...\n",
            "4   HPLaptop HP 15-EF1012LA 15.6'' AMD R7 8GB 256G...\n",
            "5   LENOVOLaptop LENOVO 81MQ00AKLM 14'' AMD A6 4GB...\n",
            "6   LENOVONotebook LENOVO C340-11 11'' Intel Celer...\n",
            "7   ASUSNotebook ASUS X515EA-BQ100T 15.6'' Intel C...\n",
            "8   LENOVOTablet LENOVO TB-X505F 10.1'' 2GB 16GBS/...\n",
            "9   LENOVOTablet LENOVO 64GB YT-X705FS/ 1,399 unS/...\n",
            "10  LENOVONetbook LENOVO D330-10IGL 10.1'' Intel C...\n",
            "11  HPLaptop HP 14-cf2064la 14'' Intel Core i3 4GB...\n",
            "12  HPLaptop HP 15-DW1061LA 15\" Intel Core i5 8GB ...\n",
            "13  HPNotebook HP 15-DW1066LA 15\" Intel Ci5 8GB 51...\n",
            "14  HPImpresora Multifuncional HP IA 2375 BlancoS/...\n",
            "15  HPImpresora Multifuncional HP Ink Tank 415S/ 9...\n",
            "16  ASUSNotebook ASUS M515DA-BQ889T 15.6'' AMD Ryz...\n",
            "17  EPSONImpresora Multifuncional EPSON L3260 Negr...\n",
            "18  SAMSUNGTablet SAMSUNG A7 Lite 8.7'' 32GB 3GB P...\n",
            "19  SAMSUNGTablet SAMSUNG A7 Lite 8.7'' 32GB 3GB G...\n",
            "20  HPNotebook HP 15-EC1038 15.6'' AMD Ryzen 7 8GB...\n"
          ]
        }
      ]
    },
    {
      "cell_type": "code",
      "metadata": {
        "colab": {
          "base_uri": "https://localhost:8080/",
          "height": 708
        },
        "id": "WNJi6wFiAzZB",
        "outputId": "2feb4803-8e38-4cfc-e5b7-3700eead7051"
      },
      "source": [
        "frm = pd.read_csv('artefactosPlazaVea.csv')\n",
        "frm"
      ],
      "execution_count": null,
      "outputs": [
        {
          "output_type": "execute_result",
          "data": {
            "text/html": [
              "<div>\n",
              "<style scoped>\n",
              "    .dataframe tbody tr th:only-of-type {\n",
              "        vertical-align: middle;\n",
              "    }\n",
              "\n",
              "    .dataframe tbody tr th {\n",
              "        vertical-align: top;\n",
              "    }\n",
              "\n",
              "    .dataframe thead th {\n",
              "        text-align: right;\n",
              "    }\n",
              "</style>\n",
              "<table border=\"1\" class=\"dataframe\">\n",
              "  <thead>\n",
              "    <tr style=\"text-align: right;\">\n",
              "      <th></th>\n",
              "      <th>artefactos</th>\n",
              "    </tr>\n",
              "  </thead>\n",
              "  <tbody>\n",
              "    <tr>\n",
              "      <th>0</th>\n",
              "      <td>LENOVONetbook LENOVO 100e DUET 11'' Intel Cele...</td>\n",
              "    </tr>\n",
              "    <tr>\n",
              "      <th>1</th>\n",
              "      <td>LENOVOTablet LENOVO TB-8505X 8'' 2GB 32GB HDD ...</td>\n",
              "    </tr>\n",
              "    <tr>\n",
              "      <th>2</th>\n",
              "      <td>HPLaptop HP 14-cf2074LA 14'' Intel Core i5 8GB...</td>\n",
              "    </tr>\n",
              "    <tr>\n",
              "      <th>3</th>\n",
              "      <td>LENOVOTablet LENOVO M10 HD 2da Generación 10.1...</td>\n",
              "    </tr>\n",
              "    <tr>\n",
              "      <th>4</th>\n",
              "      <td>HPLaptop HP 15-EF1012LA 15.6'' AMD R7 8GB 256G...</td>\n",
              "    </tr>\n",
              "    <tr>\n",
              "      <th>5</th>\n",
              "      <td>LENOVOLaptop LENOVO 81MQ00AKLM 14'' AMD A6 4GB...</td>\n",
              "    </tr>\n",
              "    <tr>\n",
              "      <th>6</th>\n",
              "      <td>LENOVONotebook LENOVO C340-11 11'' Intel Celer...</td>\n",
              "    </tr>\n",
              "    <tr>\n",
              "      <th>7</th>\n",
              "      <td>ASUSNotebook ASUS X515EA-BQ100T 15.6'' Intel C...</td>\n",
              "    </tr>\n",
              "    <tr>\n",
              "      <th>8</th>\n",
              "      <td>LENOVOTablet LENOVO TB-X505F 10.1'' 2GB 16GBS/...</td>\n",
              "    </tr>\n",
              "    <tr>\n",
              "      <th>9</th>\n",
              "      <td>LENOVOTablet LENOVO 64GB YT-X705FS/ 1,399 unS/...</td>\n",
              "    </tr>\n",
              "    <tr>\n",
              "      <th>10</th>\n",
              "      <td>LENOVONetbook LENOVO D330-10IGL 10.1'' Intel C...</td>\n",
              "    </tr>\n",
              "    <tr>\n",
              "      <th>11</th>\n",
              "      <td>HPLaptop HP 14-cf2064la 14'' Intel Core i3 4GB...</td>\n",
              "    </tr>\n",
              "    <tr>\n",
              "      <th>12</th>\n",
              "      <td>HPLaptop HP 15-DW1061LA 15\" Intel Core i5 8GB ...</td>\n",
              "    </tr>\n",
              "    <tr>\n",
              "      <th>13</th>\n",
              "      <td>HPNotebook HP 15-DW1066LA 15\" Intel Ci5 8GB 51...</td>\n",
              "    </tr>\n",
              "    <tr>\n",
              "      <th>14</th>\n",
              "      <td>HPImpresora Multifuncional HP IA 2375 BlancoS/...</td>\n",
              "    </tr>\n",
              "    <tr>\n",
              "      <th>15</th>\n",
              "      <td>HPImpresora Multifuncional HP Ink Tank 415S/ 9...</td>\n",
              "    </tr>\n",
              "    <tr>\n",
              "      <th>16</th>\n",
              "      <td>ASUSNotebook ASUS M515DA-BQ889T 15.6'' AMD Ryz...</td>\n",
              "    </tr>\n",
              "    <tr>\n",
              "      <th>17</th>\n",
              "      <td>EPSONImpresora Multifuncional EPSON L3260 Negr...</td>\n",
              "    </tr>\n",
              "    <tr>\n",
              "      <th>18</th>\n",
              "      <td>SAMSUNGTablet SAMSUNG A7 Lite 8.7'' 32GB 3GB P...</td>\n",
              "    </tr>\n",
              "    <tr>\n",
              "      <th>19</th>\n",
              "      <td>SAMSUNGTablet SAMSUNG A7 Lite 8.7'' 32GB 3GB G...</td>\n",
              "    </tr>\n",
              "    <tr>\n",
              "      <th>20</th>\n",
              "      <td>HPNotebook HP 15-EC1038 15.6'' AMD Ryzen 7 8GB...</td>\n",
              "    </tr>\n",
              "  </tbody>\n",
              "</table>\n",
              "</div>"
            ],
            "text/plain": [
              "                                           artefactos\n",
              "0   LENOVONetbook LENOVO 100e DUET 11'' Intel Cele...\n",
              "1   LENOVOTablet LENOVO TB-8505X 8'' 2GB 32GB HDD ...\n",
              "2   HPLaptop HP 14-cf2074LA 14'' Intel Core i5 8GB...\n",
              "3   LENOVOTablet LENOVO M10 HD 2da Generación 10.1...\n",
              "4   HPLaptop HP 15-EF1012LA 15.6'' AMD R7 8GB 256G...\n",
              "5   LENOVOLaptop LENOVO 81MQ00AKLM 14'' AMD A6 4GB...\n",
              "6   LENOVONotebook LENOVO C340-11 11'' Intel Celer...\n",
              "7   ASUSNotebook ASUS X515EA-BQ100T 15.6'' Intel C...\n",
              "8   LENOVOTablet LENOVO TB-X505F 10.1'' 2GB 16GBS/...\n",
              "9   LENOVOTablet LENOVO 64GB YT-X705FS/ 1,399 unS/...\n",
              "10  LENOVONetbook LENOVO D330-10IGL 10.1'' Intel C...\n",
              "11  HPLaptop HP 14-cf2064la 14'' Intel Core i3 4GB...\n",
              "12  HPLaptop HP 15-DW1061LA 15\" Intel Core i5 8GB ...\n",
              "13  HPNotebook HP 15-DW1066LA 15\" Intel Ci5 8GB 51...\n",
              "14  HPImpresora Multifuncional HP IA 2375 BlancoS/...\n",
              "15  HPImpresora Multifuncional HP Ink Tank 415S/ 9...\n",
              "16  ASUSNotebook ASUS M515DA-BQ889T 15.6'' AMD Ryz...\n",
              "17  EPSONImpresora Multifuncional EPSON L3260 Negr...\n",
              "18  SAMSUNGTablet SAMSUNG A7 Lite 8.7'' 32GB 3GB P...\n",
              "19  SAMSUNGTablet SAMSUNG A7 Lite 8.7'' 32GB 3GB G...\n",
              "20  HPNotebook HP 15-EC1038 15.6'' AMD Ryzen 7 8GB..."
            ]
          },
          "metadata": {},
          "execution_count": 12
        }
      ]
    },
    {
      "cell_type": "code",
      "metadata": {
        "id": "uIySWqZsA7ol"
      },
      "source": [
        "#Exportar el CSV\n",
        "from google.colab import files\n",
        "files.download('artefactosPlazaVea.csv')"
      ],
      "execution_count": null,
      "outputs": []
    }
  ]
}