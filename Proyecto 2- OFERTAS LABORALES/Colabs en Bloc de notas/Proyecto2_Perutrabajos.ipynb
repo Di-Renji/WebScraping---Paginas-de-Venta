{
  "nbformat": 4,
  "nbformat_minor": 0,
  "metadata": {
    "colab": {
      "name": "Proyecto2_Perutrabajos.ipynb",
      "provenance": [],
      "collapsed_sections": []
    },
    "kernelspec": {
      "name": "python3",
      "display_name": "Python 3"
    },
    "language_info": {
      "name": "python"
    }
  },
  "cells": [
    {
      "cell_type": "code",
      "metadata": {
        "colab": {
          "base_uri": "https://localhost:8080/"
        },
        "id": "w-Bm1CBUJ_WG",
        "outputId": "82e41b76-f7a2-4d24-ea20-709692d01313"
      },
      "source": [
        "# Instalamos Selenium y el driver de Chrome para realizar pruebas con el respectivo navegador\n",
        "!pip install selenium\n",
        "!apt get update \n",
        "!apt install chronium-chromedriver\n",
        "!cp /usr/lib/chronium-browser/chromedriver /usr/bin\n",
        "import sys"
      ],
      "execution_count": null,
      "outputs": [
        {
          "output_type": "stream",
          "name": "stdout",
          "text": [
            "Collecting selenium\n",
            "  Downloading selenium-4.1.0-py3-none-any.whl (958 kB)\n",
            "\u001b[K     |████████████████████████████████| 958 kB 4.2 MB/s \n",
            "\u001b[?25hCollecting trio~=0.17\n",
            "  Downloading trio-0.19.0-py3-none-any.whl (356 kB)\n",
            "\u001b[K     |████████████████████████████████| 356 kB 41.1 MB/s \n",
            "\u001b[?25hCollecting trio-websocket~=0.9\n",
            "  Downloading trio_websocket-0.9.2-py3-none-any.whl (16 kB)\n",
            "Collecting urllib3[secure]~=1.26\n",
            "  Downloading urllib3-1.26.7-py2.py3-none-any.whl (138 kB)\n",
            "\u001b[K     |████████████████████████████████| 138 kB 33.2 MB/s \n",
            "\u001b[?25hCollecting async-generator>=1.9\n",
            "  Downloading async_generator-1.10-py3-none-any.whl (18 kB)\n",
            "Requirement already satisfied: idna in /usr/local/lib/python3.7/dist-packages (from trio~=0.17->selenium) (2.10)\n",
            "Collecting sniffio\n",
            "  Downloading sniffio-1.2.0-py3-none-any.whl (10 kB)\n",
            "Requirement already satisfied: sortedcontainers in /usr/local/lib/python3.7/dist-packages (from trio~=0.17->selenium) (2.4.0)\n",
            "Collecting outcome\n",
            "  Downloading outcome-1.1.0-py2.py3-none-any.whl (9.7 kB)\n",
            "Requirement already satisfied: attrs>=19.2.0 in /usr/local/lib/python3.7/dist-packages (from trio~=0.17->selenium) (21.2.0)\n",
            "Collecting wsproto>=0.14\n",
            "  Downloading wsproto-1.0.0-py3-none-any.whl (24 kB)\n",
            "Collecting cryptography>=1.3.4\n",
            "  Downloading cryptography-36.0.0-cp36-abi3-manylinux_2_24_x86_64.whl (3.6 MB)\n",
            "\u001b[K     |████████████████████████████████| 3.6 MB 33.8 MB/s \n",
            "\u001b[?25hCollecting pyOpenSSL>=0.14\n",
            "  Downloading pyOpenSSL-21.0.0-py2.py3-none-any.whl (55 kB)\n",
            "\u001b[K     |████████████████████████████████| 55 kB 3.0 MB/s \n",
            "\u001b[?25hRequirement already satisfied: certifi in /usr/local/lib/python3.7/dist-packages (from urllib3[secure]~=1.26->selenium) (2021.10.8)\n",
            "Requirement already satisfied: cffi>=1.12 in /usr/local/lib/python3.7/dist-packages (from cryptography>=1.3.4->urllib3[secure]~=1.26->selenium) (1.15.0)\n",
            "Requirement already satisfied: pycparser in /usr/local/lib/python3.7/dist-packages (from cffi>=1.12->cryptography>=1.3.4->urllib3[secure]~=1.26->selenium) (2.21)\n",
            "Requirement already satisfied: six>=1.5.2 in /usr/local/lib/python3.7/dist-packages (from pyOpenSSL>=0.14->urllib3[secure]~=1.26->selenium) (1.15.0)\n",
            "Collecting h11<1,>=0.9.0\n",
            "  Downloading h11-0.12.0-py3-none-any.whl (54 kB)\n",
            "\u001b[K     |████████████████████████████████| 54 kB 2.5 MB/s \n",
            "\u001b[?25hInstalling collected packages: sniffio, outcome, h11, cryptography, async-generator, wsproto, urllib3, trio, pyOpenSSL, trio-websocket, selenium\n",
            "  Attempting uninstall: urllib3\n",
            "    Found existing installation: urllib3 1.24.3\n",
            "    Uninstalling urllib3-1.24.3:\n",
            "      Successfully uninstalled urllib3-1.24.3\n",
            "\u001b[31mERROR: pip's dependency resolver does not currently take into account all the packages that are installed. This behaviour is the source of the following dependency conflicts.\n",
            "requests 2.23.0 requires urllib3!=1.25.0,!=1.25.1,<1.26,>=1.21.1, but you have urllib3 1.26.7 which is incompatible.\n",
            "datascience 0.10.6 requires folium==0.2.1, but you have folium 0.8.3 which is incompatible.\u001b[0m\n",
            "Successfully installed async-generator-1.10 cryptography-36.0.0 h11-0.12.0 outcome-1.1.0 pyOpenSSL-21.0.0 selenium-4.1.0 sniffio-1.2.0 trio-0.19.0 trio-websocket-0.9.2 urllib3-1.26.7 wsproto-1.0.0\n",
            "E: Invalid operation get\n",
            "Reading package lists... Done\n",
            "Building dependency tree       \n",
            "Reading state information... Done\n",
            "E: Unable to locate package chronium-chromedriver\n",
            "cp: cannot stat '/usr/lib/chronium-browser/chromedriver': No such file or directory\n"
          ]
        }
      ]
    },
    {
      "cell_type": "code",
      "metadata": {
        "colab": {
          "base_uri": "https://localhost:8080/"
        },
        "id": "cTC5KCUGKrhV",
        "outputId": "a0b63aa1-8ccf-4b3f-ca21-2f6362e3fba1"
      },
      "source": [
        "# Instalamos Kora para importar funciones de un .ipynb a otro .ipynb en Google COLAB\n",
        "!pip install kora -q\n",
        "from kora.selenium import wd\n",
        "wd.get(\"https://www.website.com\")"
      ],
      "execution_count": null,
      "outputs": [
        {
          "output_type": "stream",
          "name": "stdout",
          "text": [
            "\u001b[K     |████████████████████████████████| 57 kB 1.6 MB/s \n",
            "\u001b[K     |████████████████████████████████| 56 kB 2.7 MB/s \n",
            "\u001b[?25h"
          ]
        }
      ]
    },
    {
      "cell_type": "code",
      "metadata": {
        "colab": {
          "base_uri": "https://localhost:8080/",
          "height": 53
        },
        "id": "-qbX-7FCLCYG",
        "outputId": "24464d87-b372-4f7c-9bdd-64cf1d31278a"
      },
      "source": [
        "# Una vez instaladas las librerias necesarias, procedemos a su llamado para este proyecto Colab\n",
        "from selenium.webdriver.support.ui import Select\n",
        "# Importamos sys es el encargado de proveer variables y funcionalidades, directamente relacionadas con el intérprete.\n",
        "import sys\n",
        "sys.path.insert(0,'/usr/lib/chronium-browser/chromedriver')\n",
        "from selenium import webdriver\n",
        "options = webdriver.ChromeOptions()\n",
        "options.add_argument('--headless')\n",
        "options.add_argument('--no-sandbox')\n",
        "options.add_argument('--disable-dev-shm-usage')\n",
        "wd = webdriver.Chrome('chromedriver',options=options)\n",
        "wd.get('https://www.perutrabajos.com/empleos-practicas-en-LA-LIBERTAD-13.html')\n",
        "wd.title"
      ],
      "execution_count": null,
      "outputs": [
        {
          "output_type": "execute_result",
          "data": {
            "application/vnd.google.colaboratory.intrinsic+json": {
              "type": "string"
            },
            "text/plain": [
              "'python - How can we use Selenium Webdriver in colab.research.google.com? - Stack Overflow'"
            ]
          },
          "metadata": {},
          "execution_count": 3
        }
      ]
    },
    {
      "cell_type": "code",
      "metadata": {
        "id": "LrcIBBOqLIyN"
      },
      "source": [
        "website ='https://www.perutrabajos.com/empleos-practicas-en-LA-LIBERTAD-13.html'\n",
        "driver = webdriver.Chrome('chromedriver', options=options)\n",
        "driver.get(website)"
      ],
      "execution_count": null,
      "outputs": []
    },
    {
      "cell_type": "code",
      "metadata": {
        "id": "giYKMYAJLJyL"
      },
      "source": [
        "#Seleccionamos el sitio web a realizar web scrapping y la obtenemos con el metodo get()\n",
        "url_to_srap = 'https://www.perutrabajos.com/empleos-practicas-en-LA-LIBERTAD-13.html'\n",
        "from selenium import webdriver\n",
        "driver.get(url_to_srap)"
      ],
      "execution_count": null,
      "outputs": []
    },
    {
      "cell_type": "code",
      "metadata": {
        "id": "zOLA87INLKCV"
      },
      "source": [
        "html_code = driver.page_source"
      ],
      "execution_count": null,
      "outputs": []
    },
    {
      "cell_type": "code",
      "metadata": {
        "id": "uNwNGPNGLUhA"
      },
      "source": [
        "# Importamos y Usamos la libreria  BeautifulSoup \n",
        "from bs4 import BeautifulSoup\n",
        "soup = BeautifulSoup(html_code,'lxml')"
      ],
      "execution_count": null,
      "outputs": []
    },
    {
      "cell_type": "code",
      "metadata": {
        "id": "IA2s2Lh5LZAF"
      },
      "source": [
        "# Identificamos la etiqueta HTML con su respectiva clase\n",
        "jobs =soup.find_all(\"article\", class_=\"post\")"
      ],
      "execution_count": null,
      "outputs": []
    },
    {
      "cell_type": "code",
      "metadata": {
        "id": "0ftGhcm4Lcof"
      },
      "source": [
        "# Con una estructura For hacemos un recorrido de cada etiqueta con la respectiva clase del HTML que contiene el texto con la informacion para la columna que deseamos\n",
        "# declaramos una lista vacia donde agregaremos los elementos\n",
        "trabajos = []\n",
        "for job in jobs:\n",
        "  trabajos.append(job.text)\n",
        "driver.quit()"
      ],
      "execution_count": null,
      "outputs": []
    },
    {
      "cell_type": "code",
      "metadata": {
        "colab": {
          "base_uri": "https://localhost:8080/"
        },
        "id": "QsGRUYSdLhqV",
        "outputId": "242b6811-7b2b-4c7b-9506-8986ce5c900f"
      },
      "source": [
        "# Importamos la libreria Pandas para trabajar con nuestro Dataframe\n",
        "import pandas as pd\n",
        "df = pd.DataFrame({'trabajo': trabajos})\n",
        "# creamos nuestro Dataframe en forma .csv\n",
        "df.to_csv('trabajosCL.csv', encoding= 'utf-8-sig')\n",
        "print(df)"
      ],
      "execution_count": null,
      "outputs": [
        {
          "output_type": "stream",
          "name": "stdout",
          "text": [
            "                                              trabajo\n",
            "0   \\n\\n\\nVIGENTE \\n\\n                            ...\n",
            "1   \\n\\n\\nVIGENTE \\n\\n                            ...\n",
            "2   \\n\\n\\nVIGENTE \\n\\n                            ...\n",
            "3   \\n\\n\\nVIGENTE \\n\\n                            ...\n",
            "4   \\n\\n\\nVIGENTE \\n\\n                            ...\n",
            "5   \\n\\n\\nVIGENTE \\n\\n                            ...\n",
            "6   \\n\\n\\nVIGENTE \\n\\n                            ...\n",
            "7   \\n\\n\\nVIGENTE \\n\\n                            ...\n",
            "8   \\n\\n\\nVIGENTE \\n\\n                            ...\n",
            "9   \\n\\n\\nVIGENTE \\n\\n                            ...\n",
            "10  \\n\\n\\nVIGENTE \\n\\n                            ...\n",
            "11  \\n\\n\\nVIGENTE \\n\\n                            ...\n",
            "12  \\n\\n\\nVIGENTE \\n\\n                            ...\n",
            "13  \\n\\n\\nVIGENTE \\n\\n                            ...\n",
            "14  \\n\\n\\nVIGENTE \\n\\n                            ...\n",
            "15  \\n\\n\\nVIGENTE \\n\\n                            ...\n",
            "16  \\n\\n\\nVIGENTE \\n\\n                            ...\n",
            "17  \\n\\n\\nVIGENTE \\n\\n                            ...\n",
            "18  \\n\\n\\nVIGENTE \\n\\n                            ...\n",
            "19  \\n\\n\\nVIGENTE \\n\\n                            ...\n",
            "20  \\n\\n\\nVIGENTE \\n\\n                            ...\n",
            "21  \\n\\n\\nVIGENTE \\n\\n                            ...\n",
            "22  \\n\\n\\nVIGENTE \\n\\n                            ...\n",
            "23  \\n\\n\\nVIGENTE \\n\\n                            ...\n",
            "24  \\n\\n\\nVIGENTE \\n\\n                            ...\n",
            "25  \\n\\n\\nVIGENTE \\n\\n                            ...\n",
            "26  \\n\\n\\nVIGENTE \\n\\n                            ...\n"
          ]
        }
      ]
    },
    {
      "cell_type": "code",
      "metadata": {
        "colab": {
          "base_uri": "https://localhost:8080/",
          "height": 927
        },
        "id": "vBCw6JjHLquR",
        "outputId": "66e6f226-367f-43db-fba2-77118f789a2e"
      },
      "source": [
        "frm = pd.read_csv('trabajosCL.csv', header=None)\n",
        "frm"
      ],
      "execution_count": null,
      "outputs": [
        {
          "output_type": "execute_result",
          "data": {
            "text/html": [
              "<div>\n",
              "<style scoped>\n",
              "    .dataframe tbody tr th:only-of-type {\n",
              "        vertical-align: middle;\n",
              "    }\n",
              "\n",
              "    .dataframe tbody tr th {\n",
              "        vertical-align: top;\n",
              "    }\n",
              "\n",
              "    .dataframe thead th {\n",
              "        text-align: right;\n",
              "    }\n",
              "</style>\n",
              "<table border=\"1\" class=\"dataframe\">\n",
              "  <thead>\n",
              "    <tr style=\"text-align: right;\">\n",
              "      <th></th>\n",
              "      <th>0</th>\n",
              "      <th>1</th>\n",
              "    </tr>\n",
              "  </thead>\n",
              "  <tbody>\n",
              "    <tr>\n",
              "      <th>0</th>\n",
              "      <td>NaN</td>\n",
              "      <td>trabajo</td>\n",
              "    </tr>\n",
              "    <tr>\n",
              "      <th>1</th>\n",
              "      <td>0.0</td>\n",
              "      <td>\\n\\n\\nVIGENTE \\n\\n                            ...</td>\n",
              "    </tr>\n",
              "    <tr>\n",
              "      <th>2</th>\n",
              "      <td>1.0</td>\n",
              "      <td>\\n\\n\\nVIGENTE \\n\\n                            ...</td>\n",
              "    </tr>\n",
              "    <tr>\n",
              "      <th>3</th>\n",
              "      <td>2.0</td>\n",
              "      <td>\\n\\n\\nVIGENTE \\n\\n                            ...</td>\n",
              "    </tr>\n",
              "    <tr>\n",
              "      <th>4</th>\n",
              "      <td>3.0</td>\n",
              "      <td>\\n\\n\\nVIGENTE \\n\\n                            ...</td>\n",
              "    </tr>\n",
              "    <tr>\n",
              "      <th>5</th>\n",
              "      <td>4.0</td>\n",
              "      <td>\\n\\n\\nVIGENTE \\n\\n                            ...</td>\n",
              "    </tr>\n",
              "    <tr>\n",
              "      <th>6</th>\n",
              "      <td>5.0</td>\n",
              "      <td>\\n\\n\\nVIGENTE \\n\\n                            ...</td>\n",
              "    </tr>\n",
              "    <tr>\n",
              "      <th>7</th>\n",
              "      <td>6.0</td>\n",
              "      <td>\\n\\n\\nVIGENTE \\n\\n                            ...</td>\n",
              "    </tr>\n",
              "    <tr>\n",
              "      <th>8</th>\n",
              "      <td>7.0</td>\n",
              "      <td>\\n\\n\\nVIGENTE \\n\\n                            ...</td>\n",
              "    </tr>\n",
              "    <tr>\n",
              "      <th>9</th>\n",
              "      <td>8.0</td>\n",
              "      <td>\\n\\n\\nVIGENTE \\n\\n                            ...</td>\n",
              "    </tr>\n",
              "    <tr>\n",
              "      <th>10</th>\n",
              "      <td>9.0</td>\n",
              "      <td>\\n\\n\\nVIGENTE \\n\\n                            ...</td>\n",
              "    </tr>\n",
              "    <tr>\n",
              "      <th>11</th>\n",
              "      <td>10.0</td>\n",
              "      <td>\\n\\n\\nVIGENTE \\n\\n                            ...</td>\n",
              "    </tr>\n",
              "    <tr>\n",
              "      <th>12</th>\n",
              "      <td>11.0</td>\n",
              "      <td>\\n\\n\\nVIGENTE \\n\\n                            ...</td>\n",
              "    </tr>\n",
              "    <tr>\n",
              "      <th>13</th>\n",
              "      <td>12.0</td>\n",
              "      <td>\\n\\n\\nVIGENTE \\n\\n                            ...</td>\n",
              "    </tr>\n",
              "    <tr>\n",
              "      <th>14</th>\n",
              "      <td>13.0</td>\n",
              "      <td>\\n\\n\\nVIGENTE \\n\\n                            ...</td>\n",
              "    </tr>\n",
              "    <tr>\n",
              "      <th>15</th>\n",
              "      <td>14.0</td>\n",
              "      <td>\\n\\n\\nVIGENTE \\n\\n                            ...</td>\n",
              "    </tr>\n",
              "    <tr>\n",
              "      <th>16</th>\n",
              "      <td>15.0</td>\n",
              "      <td>\\n\\n\\nVIGENTE \\n\\n                            ...</td>\n",
              "    </tr>\n",
              "    <tr>\n",
              "      <th>17</th>\n",
              "      <td>16.0</td>\n",
              "      <td>\\n\\n\\nVIGENTE \\n\\n                            ...</td>\n",
              "    </tr>\n",
              "    <tr>\n",
              "      <th>18</th>\n",
              "      <td>17.0</td>\n",
              "      <td>\\n\\n\\nVIGENTE \\n\\n                            ...</td>\n",
              "    </tr>\n",
              "    <tr>\n",
              "      <th>19</th>\n",
              "      <td>18.0</td>\n",
              "      <td>\\n\\n\\nVIGENTE \\n\\n                            ...</td>\n",
              "    </tr>\n",
              "    <tr>\n",
              "      <th>20</th>\n",
              "      <td>19.0</td>\n",
              "      <td>\\n\\n\\nVIGENTE \\n\\n                            ...</td>\n",
              "    </tr>\n",
              "    <tr>\n",
              "      <th>21</th>\n",
              "      <td>20.0</td>\n",
              "      <td>\\n\\n\\nVIGENTE \\n\\n                            ...</td>\n",
              "    </tr>\n",
              "    <tr>\n",
              "      <th>22</th>\n",
              "      <td>21.0</td>\n",
              "      <td>\\n\\n\\nVIGENTE \\n\\n                            ...</td>\n",
              "    </tr>\n",
              "    <tr>\n",
              "      <th>23</th>\n",
              "      <td>22.0</td>\n",
              "      <td>\\n\\n\\nVIGENTE \\n\\n                            ...</td>\n",
              "    </tr>\n",
              "    <tr>\n",
              "      <th>24</th>\n",
              "      <td>23.0</td>\n",
              "      <td>\\n\\n\\nVIGENTE \\n\\n                            ...</td>\n",
              "    </tr>\n",
              "    <tr>\n",
              "      <th>25</th>\n",
              "      <td>24.0</td>\n",
              "      <td>\\n\\n\\nVIGENTE \\n\\n                            ...</td>\n",
              "    </tr>\n",
              "    <tr>\n",
              "      <th>26</th>\n",
              "      <td>25.0</td>\n",
              "      <td>\\n\\n\\nVIGENTE \\n\\n                            ...</td>\n",
              "    </tr>\n",
              "    <tr>\n",
              "      <th>27</th>\n",
              "      <td>26.0</td>\n",
              "      <td>\\n\\n\\nVIGENTE \\n\\n                            ...</td>\n",
              "    </tr>\n",
              "  </tbody>\n",
              "</table>\n",
              "</div>"
            ],
            "text/plain": [
              "       0                                                  1\n",
              "0    NaN                                            trabajo\n",
              "1    0.0  \\n\\n\\nVIGENTE \\n\\n                            ...\n",
              "2    1.0  \\n\\n\\nVIGENTE \\n\\n                            ...\n",
              "3    2.0  \\n\\n\\nVIGENTE \\n\\n                            ...\n",
              "4    3.0  \\n\\n\\nVIGENTE \\n\\n                            ...\n",
              "5    4.0  \\n\\n\\nVIGENTE \\n\\n                            ...\n",
              "6    5.0  \\n\\n\\nVIGENTE \\n\\n                            ...\n",
              "7    6.0  \\n\\n\\nVIGENTE \\n\\n                            ...\n",
              "8    7.0  \\n\\n\\nVIGENTE \\n\\n                            ...\n",
              "9    8.0  \\n\\n\\nVIGENTE \\n\\n                            ...\n",
              "10   9.0  \\n\\n\\nVIGENTE \\n\\n                            ...\n",
              "11  10.0  \\n\\n\\nVIGENTE \\n\\n                            ...\n",
              "12  11.0  \\n\\n\\nVIGENTE \\n\\n                            ...\n",
              "13  12.0  \\n\\n\\nVIGENTE \\n\\n                            ...\n",
              "14  13.0  \\n\\n\\nVIGENTE \\n\\n                            ...\n",
              "15  14.0  \\n\\n\\nVIGENTE \\n\\n                            ...\n",
              "16  15.0  \\n\\n\\nVIGENTE \\n\\n                            ...\n",
              "17  16.0  \\n\\n\\nVIGENTE \\n\\n                            ...\n",
              "18  17.0  \\n\\n\\nVIGENTE \\n\\n                            ...\n",
              "19  18.0  \\n\\n\\nVIGENTE \\n\\n                            ...\n",
              "20  19.0  \\n\\n\\nVIGENTE \\n\\n                            ...\n",
              "21  20.0  \\n\\n\\nVIGENTE \\n\\n                            ...\n",
              "22  21.0  \\n\\n\\nVIGENTE \\n\\n                            ...\n",
              "23  22.0  \\n\\n\\nVIGENTE \\n\\n                            ...\n",
              "24  23.0  \\n\\n\\nVIGENTE \\n\\n                            ...\n",
              "25  24.0  \\n\\n\\nVIGENTE \\n\\n                            ...\n",
              "26  25.0  \\n\\n\\nVIGENTE \\n\\n                            ...\n",
              "27  26.0  \\n\\n\\nVIGENTE \\n\\n                            ..."
            ]
          },
          "metadata": {},
          "execution_count": 11
        }
      ]
    },
    {
      "cell_type": "code",
      "metadata": {
        "id": "uNn43v89Lz1-"
      },
      "source": [
        "driver = wd\n",
        "driver.get(website)"
      ],
      "execution_count": null,
      "outputs": []
    },
    {
      "cell_type": "code",
      "metadata": {
        "colab": {
          "base_uri": "https://localhost:8080/",
          "height": 35
        },
        "id": "zOt85P2CL4Y2",
        "outputId": "5df6f942-5bf2-4d46-b155-02a6996a92f1"
      },
      "source": [
        "website"
      ],
      "execution_count": null,
      "outputs": [
        {
          "output_type": "execute_result",
          "data": {
            "application/vnd.google.colaboratory.intrinsic+json": {
              "type": "string"
            },
            "text/plain": [
              "'https://www.perutrabajos.com/empleos-practicas-en-LA-LIBERTAD-13.html'"
            ]
          },
          "metadata": {},
          "execution_count": 13
        }
      ]
    },
    {
      "cell_type": "code",
      "metadata": {
        "id": "Rn2PyNWfL7Ts"
      },
      "source": [
        "df.to_csv('trabajosCL.csv')"
      ],
      "execution_count": null,
      "outputs": []
    },
    {
      "cell_type": "code",
      "metadata": {
        "id": "jBleqBq7MASH"
      },
      "source": [
        "# Y finalizamos descargando el archivo creado para ser usado como fuente de datos en Power BI\n",
        "from google.colab import files\n",
        "files.download('trabajosCL.csv')"
      ],
      "execution_count": null,
      "outputs": []
    }
  ]
}